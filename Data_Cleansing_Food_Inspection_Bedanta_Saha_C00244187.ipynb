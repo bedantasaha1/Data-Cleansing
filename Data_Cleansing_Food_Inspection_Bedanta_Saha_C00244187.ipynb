{
 "cells": [
  {
   "cell_type": "markdown",
   "metadata": {},
   "source": [
    "## CSV File Loading"
   ]
  },
  {
   "cell_type": "code",
   "execution_count": null,
   "metadata": {},
   "outputs": [],
   "source": [
    "import csv #importing csv module"
   ]
  },
  {
   "cell_type": "code",
   "execution_count": null,
   "metadata": {},
   "outputs": [],
   "source": [
    "food= list(csv.DictReader(open('Food_Inspections1.csv'))) #Reading the csv file"
   ]
  },
  {
   "cell_type": "code",
   "execution_count": null,
   "metadata": {},
   "outputs": [],
   "source": [
    "len(food) #Length of the list \"food\""
   ]
  },
  {
   "cell_type": "code",
   "execution_count": null,
   "metadata": {},
   "outputs": [],
   "source": [
    "from collections import Counter #Importing Counter module"
   ]
  },
  {
   "cell_type": "markdown",
   "metadata": {},
   "source": [
    "# Problem 1: \"Facility Type\" column has same type of entries with different spellings"
   ]
  },
  {
   "cell_type": "code",
   "execution_count": null,
   "metadata": {},
   "outputs": [],
   "source": [
    "{row['Facility Type'] for row in food} #sets of distinct entries for \"Facility Type\" before"
   ]
  },
  {
   "cell_type": "code",
   "execution_count": null,
   "metadata": {},
   "outputs": [],
   "source": [
    "count_of_distinct_facility_type_before = Counter ({row['Facility Type'] for row in food}) #Counter of distinct facility type"
   ]
  },
  {
   "cell_type": "code",
   "execution_count": null,
   "metadata": {},
   "outputs": [],
   "source": [
    "len(count_of_distinct_facility_type_before) #length/count of distinct facility type before cleaning"
   ]
  },
  {
   "cell_type": "markdown",
   "metadata": {},
   "source": [
    "We can see there are 463 distinct entries in \"Facility Type\" column and some of them are having same name with different spellings. Such as: \"KIDS CAFE\", \"Kids Cafe'\" "
   ]
  },
  {
   "cell_type": "markdown",
   "metadata": {},
   "source": [
    "# Solution"
   ]
  },
  {
   "cell_type": "markdown",
   "metadata": {},
   "source": [
    "We can use some basic string replacement techniques and clean the different spellings upto a limit. Such as converting every strings to upper case, removing extra spaces, special characters, irrelavent words and so on..."
   ]
  },
  {
   "cell_type": "code",
   "execution_count": null,
   "metadata": {},
   "outputs": [],
   "source": [
    "food = [{**row,'Facility Type':row['Facility Type'].upper()\n",
    "         .replace(\"'\",'')\n",
    "         .replace('/',' ')\n",
    "         .replace('_',' ')\n",
    "         .replace(' -',' ')\n",
    "         .replace('- ',' ')\n",
    "         .replace('-',' ')\n",
    "         .replace(' STORE','')\n",
    "         .replace('  ',' ')} for row in food] "
   ]
  },
  {
   "cell_type": "markdown",
   "metadata": {},
   "source": [
    "So now if we try to know the  distinct values"
   ]
  },
  {
   "cell_type": "code",
   "execution_count": null,
   "metadata": {},
   "outputs": [],
   "source": [
    "{row['Facility Type'] for row in food} #sets of distinct entries for \"Facility Type\" before"
   ]
  },
  {
   "cell_type": "code",
   "execution_count": null,
   "metadata": {},
   "outputs": [],
   "source": [
    "count_of_distinct_facility_type_after = Counter ({row['Facility Type'] for row in food})"
   ]
  },
  {
   "cell_type": "code",
   "execution_count": null,
   "metadata": {},
   "outputs": [],
   "source": [
    "len(count_of_distinct_facility_type_after) #length/count of distinct facility type after cleaning"
   ]
  },
  {
   "cell_type": "markdown",
   "metadata": {},
   "source": [
    "### The number of distinct values has been reduced down and we can see that many of the distinct values with same string and different spelling has become single ones "
   ]
  },
  {
   "cell_type": "code",
   "execution_count": null,
   "metadata": {},
   "outputs": [],
   "source": []
  },
  {
   "cell_type": "markdown",
   "metadata": {},
   "source": [
    "# Problem 2 : \"State\"  column is having  empty values"
   ]
  },
  {
   "cell_type": "code",
   "execution_count": null,
   "metadata": {},
   "outputs": [],
   "source": [
    "{row['State'] for row in food} #Distinct sets of values of \"State\""
   ]
  },
  {
   "cell_type": "code",
   "execution_count": null,
   "metadata": {},
   "outputs": [],
   "source": [
    "State_Count= Counter (row['State'] for row in food) #Count of the distinct values"
   ]
  },
  {
   "cell_type": "code",
   "execution_count": null,
   "metadata": {},
   "outputs": [],
   "source": [
    "State_Count.most_common(3) #most common values of the counter before"
   ]
  },
  {
   "cell_type": "markdown",
   "metadata": {},
   "source": [
    "# Solution"
   ]
  },
  {
   "cell_type": "markdown",
   "metadata": {},
   "source": [
    "As every other values of \"State\" is  \"IL\" so we can change the empty values of \"State\" to \"IL\""
   ]
  },
  {
   "cell_type": "code",
   "execution_count": null,
   "metadata": {},
   "outputs": [],
   "source": [
    "for i in food:\n",
    "        if i['State']=='': #finding the empty value\n",
    "            i['State']='IL' #setting the value to 'IL'"
   ]
  },
  {
   "cell_type": "markdown",
   "metadata": {},
   "source": [
    "### Counting the distinct values again"
   ]
  },
  {
   "cell_type": "code",
   "execution_count": null,
   "metadata": {},
   "outputs": [],
   "source": [
    "State_Count= Counter (row['State'] for row in food)"
   ]
  },
  {
   "cell_type": "code",
   "execution_count": null,
   "metadata": {},
   "outputs": [],
   "source": [
    "State_Count.most_common(3) #most common values of the counter after"
   ]
  },
  {
   "cell_type": "code",
   "execution_count": null,
   "metadata": {},
   "outputs": [],
   "source": [
    "{row['State'] for row in food} #Sets of distinct values after"
   ]
  },
  {
   "cell_type": "markdown",
   "metadata": {},
   "source": [
    "# Problem 3: Column \"City\" is having different types of spelling for the value \"Chicago\". like \"CCHICAGO\",  \"CHCHICAGO\", \"CHCICAGO\", \"CHICAGOCHICAGO\" etc.\n",
    " \n",
    " "
   ]
  },
  {
   "cell_type": "code",
   "execution_count": null,
   "metadata": {},
   "outputs": [],
   "source": [
    "{row['City'] for row in food if row}#Set of distinct values of \"City\" before"
   ]
  },
  {
   "cell_type": "code",
   "execution_count": null,
   "metadata": {},
   "outputs": [],
   "source": [
    "count_of_distinct_City_before = Counter ({row['City'] for row in food}) #counter of distinct \"City\" values"
   ]
  },
  {
   "cell_type": "code",
   "execution_count": null,
   "metadata": {},
   "outputs": [],
   "source": [
    "len(count_of_distinct_City_before) #Count of distinct \"City\" values before"
   ]
  },
  {
   "cell_type": "markdown",
   "metadata": {},
   "source": [
    "## Let's convert evrything into upper case and then try to find out how many types of spelling of \"CHICAGO\" are there"
   ]
  },
  {
   "cell_type": "code",
   "execution_count": null,
   "metadata": {},
   "outputs": [],
   "source": [
    "food = [{**row,'City':row['City'].upper()} for row in food] #Converting the strings to upper case"
   ]
  },
  {
   "cell_type": "code",
   "execution_count": null,
   "metadata": {},
   "outputs": [],
   "source": [
    "{row['City'] for row in food if row['City'].find('CAGO')!= -1} #Set of distinct values of \"City\" having the string \"CAGO\""
   ]
  },
  {
   "cell_type": "markdown",
   "metadata": {},
   "source": [
    "# Solution"
   ]
  },
  {
   "cell_type": "markdown",
   "metadata": {},
   "source": [
    "Wherever we will find the string value \"CAGO\" we will replace the whole entry with \"CHICAGO\""
   ]
  },
  {
   "cell_type": "code",
   "execution_count": null,
   "metadata": {},
   "outputs": [],
   "source": [
    "for i in food:\n",
    "        if i['City'].find('CAGO')!=-1: #finding the values having string 'CAGO' in it\n",
    "            i['City']='CHICAGO' #setting the value to 'CHICAGO'"
   ]
  },
  {
   "cell_type": "code",
   "execution_count": null,
   "metadata": {},
   "outputs": [],
   "source": [
    "{row['City'] for row in food if row}#Set of new distinct values of \"City\""
   ]
  },
  {
   "cell_type": "code",
   "execution_count": null,
   "metadata": {},
   "outputs": [],
   "source": [
    "{row['City'] for row in food if row['City'].find('CAGO')!= -1} #Set of new distinct values of \"City\" having the string \"CAGO\""
   ]
  },
  {
   "cell_type": "code",
   "execution_count": null,
   "metadata": {},
   "outputs": [],
   "source": [
    "count_of_distinct_City_after = Counter ({row['City'] for row in food})"
   ]
  },
  {
   "cell_type": "code",
   "execution_count": null,
   "metadata": {},
   "outputs": [],
   "source": [
    "len(count_of_distinct_City_after) #Count of new distinct values of \"City\""
   ]
  },
  {
   "cell_type": "markdown",
   "metadata": {},
   "source": [
    "# Problem 4: In \"Address\" column some values are having the strings like \"ST\",\"RD\", \"AVE\", \"DR\" etc and some values are having the strings like \"STREET\", \"ROAD\", \"AVENUE\", \"DRIVE\" etc"
   ]
  },
  {
   "cell_type": "code",
   "execution_count": null,
   "metadata": {},
   "outputs": [],
   "source": [
    "AddressWithShortForm={row['Address'] for row in food if row['Address'].find(' ST ')!= -1 \n",
    " or row['Address'].find(' RD ')!= -1\n",
    " or row['Address'].find(' AVE ')!= -1\n",
    " or row['Address'].find(' DR ')!= -1\n",
    " or row['Address'].find(' S ')!= -1\n",
    " or row['Address'].find(' N ')!= -1\n",
    " or row['Address'].find(' E ')!= -1\n",
    " or row['Address'].find(' W ')!= -1} #Adress with short form of the strings"
   ]
  },
  {
   "cell_type": "code",
   "execution_count": null,
   "metadata": {},
   "outputs": [],
   "source": [
    "len(AddressWithShortForm) #Count of the addresses with short form of the strings before cleansing"
   ]
  },
  {
   "cell_type": "code",
   "execution_count": null,
   "metadata": {},
   "outputs": [],
   "source": [
    "AddressWithShortForm #Adress with short form of the strings before cleansing"
   ]
  },
  {
   "cell_type": "code",
   "execution_count": null,
   "metadata": {},
   "outputs": [],
   "source": [
    "AddressWithFulltForm={row['Address'] for row in food if row['Address'].find(' STREET ')!= -1  \n",
    " or row['Address'].find(' ROAD ')!= -1\n",
    " or row['Address'].find(' AVEUE ')!= -1\n",
    " or row['Address'].find(' DRIVE ')!= -1\n",
    " or row['Address'].find(' SOUTH ')!= -1\n",
    " or row['Address'].find(' NORTH ')!= -1\n",
    " or row['Address'].find(' EAST ')!= -1\n",
    " or row['Address'].find(' WEST ')!= -1} #Adress with full form of the strings "
   ]
  },
  {
   "cell_type": "code",
   "execution_count": null,
   "metadata": {},
   "outputs": [],
   "source": [
    "len(AddressWithFulltForm) #Count of the addresses with full form of the strings before cleansing"
   ]
  },
  {
   "cell_type": "code",
   "execution_count": null,
   "metadata": {},
   "outputs": [],
   "source": [
    "AddressWithFulltForm #Adress with full form of the strings before cleansing"
   ]
  },
  {
   "cell_type": "markdown",
   "metadata": {},
   "source": [
    "## Solution"
   ]
  },
  {
   "cell_type": "markdown",
   "metadata": {},
   "source": [
    "We will replace the values in Short Forms with the proper values of Full Form"
   ]
  },
  {
   "cell_type": "code",
   "execution_count": null,
   "metadata": {},
   "outputs": [],
   "source": [
    "food = [{**row,'Address':row['Address'].upper()\n",
    "         .replace(' ST ',' STREET ')\n",
    "         .replace(' RD ',' ROAD ')\n",
    "         .replace(' AVE ',' AVENUE ')\n",
    "         .replace(' DR ',' DRIVE ')\n",
    "         .replace(' S ',' SOUTH ')\n",
    "         .replace(' N ',' NORTH ')\n",
    "         .replace(' E ',' EAST ')\n",
    "         .replace(' W ',' WEST ')} for row in food] #replacing the short form of the string with the full forms"
   ]
  },
  {
   "cell_type": "markdown",
   "metadata": {},
   "source": [
    "Now if we check the values, we can see the problem has been solved!!"
   ]
  },
  {
   "cell_type": "code",
   "execution_count": null,
   "metadata": {},
   "outputs": [],
   "source": [
    "AddressWithShortForm={row['Address'] for row in food if row['Address'].find(' ST ')!= -1 \n",
    " or row['Address'].find(' RD ')!= -1\n",
    " or row['Address'].find(' AVE ')!= -1\n",
    " or row['Address'].find(' DR ')!= -1\n",
    " or row['Address'].find(' S ')!= -1\n",
    " or row['Address'].find(' N ')!= -1\n",
    " or row['Address'].find(' E ')!= -1\n",
    " or row['Address'].find(' W ')!= -1} #Adress with short form of the strings after cleansing"
   ]
  },
  {
   "cell_type": "code",
   "execution_count": null,
   "metadata": {},
   "outputs": [],
   "source": [
    "len(AddressWithShortForm) #Count of the addresses with short form of the strings after cleansing"
   ]
  },
  {
   "cell_type": "code",
   "execution_count": null,
   "metadata": {},
   "outputs": [],
   "source": [
    "AddressWithShortForm #Adress with short form of the strings after cleansing"
   ]
  },
  {
   "cell_type": "code",
   "execution_count": null,
   "metadata": {},
   "outputs": [],
   "source": [
    "AddressWithFulltForm={row['Address'] for row in food if row['Address'].find(' STREET ')!= -1  \n",
    " or row['Address'].find(' ROAD ')!= -1\n",
    " or row['Address'].find(' AVEUE ')!= -1\n",
    " or row['Address'].find(' DRIVE ')!= -1\n",
    " or row['Address'].find(' SOUTH ')!= -1\n",
    " or row['Address'].find(' NORTH ')!= -1\n",
    " or row['Address'].find(' EAST ')!= -1\n",
    " or row['Address'].find(' WEST ')!= -1}  #Adress with short form of the strings after cleansing"
   ]
  },
  {
   "cell_type": "code",
   "execution_count": null,
   "metadata": {},
   "outputs": [],
   "source": [
    "len(AddressWithFulltForm) #Count of the addresses with short form of the strings after cleansing"
   ]
  },
  {
   "cell_type": "code",
   "execution_count": null,
   "metadata": {},
   "outputs": [],
   "source": [
    "AddressWithFulltForm #Adress with short form of the strings after cleansing"
   ]
  },
  {
   "cell_type": "markdown",
   "metadata": {},
   "source": [
    "# Problem 5: There are some entries where the  \"Results\" are \"Fail\" or \"Pass w/ Conditions\" but the relative \"Vioalations\" field is empty "
   ]
  },
  {
   "cell_type": "code",
   "execution_count": null,
   "metadata": {},
   "outputs": [],
   "source": [
    "MissingViolationsBefore=[row for row in food\n",
    "                         if (row['Results']=='Fail' or row['Results']=='Pass w/ Conditions') \n",
    "                         and row['Violations']==''] #Blank vioalation values with Results Fail or Pass w/ Conditions"
   ]
  },
  {
   "cell_type": "code",
   "execution_count": null,
   "metadata": {},
   "outputs": [],
   "source": [
    "len(MissingViolationsBefore) #Count of blank vioalation values with Results Fail or Pass w/ Conditions before cleansing"
   ]
  },
  {
   "cell_type": "markdown",
   "metadata": {},
   "source": [
    "## Solution"
   ]
  },
  {
   "cell_type": "markdown",
   "metadata": {},
   "source": [
    "If the \"Violations\" value is missing in the above mentioned condition then we can insert the value as 'Data Entry Error'"
   ]
  },
  {
   "cell_type": "code",
   "execution_count": null,
   "metadata": {},
   "outputs": [],
   "source": [
    "for i in food:\n",
    "        if ((i['Results']=='Fail' or i['Results']=='Pass w/ Conditions') and i['Violations']==''):\n",
    "            i['Violations']='Missing' #Filling the blank values of that condition with a particular string"
   ]
  },
  {
   "cell_type": "code",
   "execution_count": null,
   "metadata": {},
   "outputs": [],
   "source": [
    "MissingViolationsAfter=[row for row in food \n",
    "                        if (row['Results']=='Fail' or row['Results']=='Pass w/ Conditions') \n",
    "                        and row['Violations']=='']"
   ]
  },
  {
   "cell_type": "code",
   "execution_count": null,
   "metadata": {},
   "outputs": [],
   "source": [
    "len(MissingViolationsAfter) #Count of blank vioalation values with Results Fail or Pass w/ Conditions after cleansing"
   ]
  },
  {
   "cell_type": "markdown",
   "metadata": {},
   "source": [
    "# Export csv"
   ]
  },
  {
   "cell_type": "code",
   "execution_count": null,
   "metadata": {},
   "outputs": [],
   "source": [
    "keys = food[0].keys()\n",
    "with open('food_inspection_cleaned_Bedanta_Saha_C00244187.csv', 'w') as output_file:\n",
    "    dict_writer = csv.DictWriter(output_file, keys)\n",
    "    dict_writer.writeheader()\n",
    "    dict_writer.writerows(food) #Writing new csv file"
   ]
  },
  {
   "cell_type": "code",
   "execution_count": null,
   "metadata": {},
   "outputs": [],
   "source": []
  }
 ],
 "metadata": {
  "kernelspec": {
   "display_name": "Python 3",
   "language": "python",
   "name": "python3"
  },
  "language_info": {
   "codemirror_mode": {
    "name": "ipython",
    "version": 3
   },
   "file_extension": ".py",
   "mimetype": "text/x-python",
   "name": "python",
   "nbconvert_exporter": "python",
   "pygments_lexer": "ipython3",
   "version": "3.6.5"
  }
 },
 "nbformat": 4,
 "nbformat_minor": 2
}
